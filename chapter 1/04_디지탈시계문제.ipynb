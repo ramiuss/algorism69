{
 "cells": [
  {
   "cell_type": "code",
   "execution_count": null,
   "id": "a1d3fe75",
   "metadata": {},
   "outputs": [],
   "source": [
    "#디지탈 시계는 7개의 칸에 불을 켜서 숫자를 표현한다.\n",
    "#각 칸은 다음과 같이 표현된다.\n",
    "\n",
    "memo = {0: 6, 1: 2, 2: 5, 3: 5, 4: 4, 5: 5, 6: 6, 7: 3, 8: 7, 9: 6}"
   ]
  },
  {
   "cell_type": "code",
   "execution_count": null,
   "id": "f3429aa7",
   "metadata": {},
   "outputs": [],
   "source": []
  },
  {
   "cell_type": "code",
   "execution_count": null,
   "id": "62c8c58d",
   "metadata": {},
   "outputs": [],
   "source": []
  }
 ],
 "metadata": {
  "language_info": {
   "name": "python"
  }
 },
 "nbformat": 4,
 "nbformat_minor": 5
}
