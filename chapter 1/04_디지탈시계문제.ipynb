{
 "cells": [
  {
   "cell_type": "code",
   "execution_count": 1,
   "id": "a1d3fe75",
   "metadata": {},
   "outputs": [],
   "source": [
    "#디지탈 시계는 7개의 칸에 불을 켜서 숫자를 표현한다.\n",
    "#각 칸은 다음과 같이 표현된다.\n",
    "\n",
    "memo = {0: 6, 1: 2, 2: 5, 3: 5, 4: 4, 5: 5, 6: 6, 7: 3, 8: 7, 9: 6}"
   ]
  },
  {
   "cell_type": "code",
   "execution_count": 2,
   "id": "f3429aa7",
   "metadata": {},
   "outputs": [
    {
     "name": "stdout",
     "output_type": "stream",
     "text": [
      "디지탈 시계에서 30개의 세그먼트를 켜는 경우는 총 8360가지입니다.\n"
     ]
    }
   ],
   "source": [
    "\n",
    "count = 0\n",
    "for i in range(24) :\n",
    "    # print(i // 10, i % 10)\n",
    "    # print(memo[i // 10], memo[i % 10])\n",
    "    hour_count = memo[i // 10] + memo[i % 10]\n",
    "    # print(f'{i}시는 디지탈 세그먼트 {hour_count}개를 켜야 합니다.') \n",
    "\n",
    "    for j in range(60) :\n",
    "        # print(j // 10, j % 10)\n",
    "        # print(memo[j // 10], memo[j % 10])\n",
    "        minute_count = memo[j // 10] + memo[j % 10]\n",
    "        # print(f'{i}시 {j}분은 디지탈 세그먼트 {hour_count + minute_count}개를 켜야 합니다.')\n",
    "\n",
    "        for k in range(60) :\n",
    "            # print(k // 10, k % 10)\n",
    "            # print(memo[k // 10], memo[k % 10])\n",
    "            second_count = memo[k // 10] + memo[k % 10]\n",
    "            # print(f'{i}시 {j}분 {k}초는 디지탈 세그먼트 {hour_count + minute_count + second_count}개를 켜야 합니다.')\n",
    "            sum_count = hour_count + minute_count + second_count\n",
    "            if sum_count == 30 :\n",
    "                count += 1\n",
    "\n",
    "print(f'디지탈 시계에서 30개의 세그먼트를 켜는 경우는 총 {count}가지입니다.')"
   ]
  },
  {
   "cell_type": "code",
   "execution_count": 3,
   "id": "62c8c58d",
   "metadata": {},
   "outputs": [
    {
     "name": "stdout",
     "output_type": "stream",
     "text": [
      "디지탈 시계에서 30개의 세그먼트를 켜는 경우는 총 8360가지입니다.\n"
     ]
    }
   ],
   "source": [
    "N = 30\n",
    "\n",
    "def check(num) :\n",
    "    light = [6, 2, 5, 5, 4, 5, 6, 3, 7, 6]\n",
    "    return light[num // 10] + light[num % 10]\n",
    "\n",
    "count = 0\n",
    "for i in range(24) :\n",
    "    for j in range(60) :\n",
    "        for k in range(60) :\n",
    "            if check(i) + check(j) + check(k) == N :\n",
    "                count += 1\n",
    "\n",
    "print(f'디지탈 시계에서 {N}개의 세그먼트를 켜는 경우는 총 {count}가지입니다.')"
   ]
  }
 ],
 "metadata": {
  "kernelspec": {
   "display_name": "Python 3",
   "language": "python",
   "name": "python3"
  },
  "language_info": {
   "codemirror_mode": {
    "name": "ipython",
    "version": 3
   },
   "file_extension": ".py",
   "mimetype": "text/x-python",
   "name": "python",
   "nbconvert_exporter": "python",
   "pygments_lexer": "ipython3",
   "version": "3.12.1"
  }
 },
 "nbformat": 4,
 "nbformat_minor": 5
}
