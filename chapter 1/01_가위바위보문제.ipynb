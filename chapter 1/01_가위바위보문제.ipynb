{
 "cells": [
  {
   "cell_type": "code",
   "execution_count": 8,
   "id": "56c3edd5",
   "metadata": {},
   "outputs": [],
   "source": [
    "# 여러명의 사람이 가위바위보를 할 경우 어느 한가지가 다른 2가지 보다 많은 사람이\n",
    "# 선택을 했다면 그 가장 많은 사람이 낸 것이 승자가 되는 게임을 한다고 하자\n",
    "# 비기는 경우가 발생하지 않고, 한 번에 승부가 나는 경우의 수를 구하는 코드를 작성하자.."
   ]
  },
  {
   "cell_type": "code",
   "execution_count": 9,
   "id": "fb76bf13",
   "metadata": {},
   "outputs": [
    {
     "name": "stdout",
     "output_type": "stream",
     "text": [
      "0 0 4\n",
      "0 1 3\n",
      "0 2 2\n",
      "0 3 1\n",
      "0 4 0\n",
      "1 0 3\n",
      "1 1 2\n",
      "1 2 1\n",
      "1 3 0\n",
      "2 0 2\n",
      "2 1 1\n",
      "2 2 0\n",
      "3 0 1\n",
      "3 1 0\n",
      "4 0 0\n"
     ]
    }
   ],
   "source": [
    "n = 4 \n",
    "\n",
    "result = []\n",
    "for i in range(n + 1) :\n",
    "    for j in range(n + 1) :\n",
    "        k = n - (i + j)\n",
    "        if k >= 0 :\n",
    "            print(i, j, k)\n",
    "            result.append((i, j, k))"
   ]
  },
  {
   "cell_type": "code",
   "execution_count": 10,
   "id": "d970e696",
   "metadata": {},
   "outputs": [
    {
     "name": "stdout",
     "output_type": "stream",
     "text": [
      "가위 0, 바위 0,  보자기 4.. 보자기 승\n",
      "가위 0, 바위 1,  보자기 3.. 보자기 승\n",
      "가위 0, 바위 3,  보자기 1.. 바위 승\n",
      "가위 0, 바위 4,  보자기 0.. 바위 승\n",
      "가위 1, 바위 0,  보자기 3.. 보자기 승\n",
      "가위 1, 바위 1,  보자기 2.. 보자기 승\n",
      "가위 1, 바위 2,  보자기 1.. 바위 승\n",
      "가위 1, 바위 3,  보자기 0.. 바위 승\n",
      "가위 2, 바위 1,  보자기 1.. 가위 승\n",
      "가위 3, 바위 0,  보자기 1.. 가위 승\n",
      "가위 3, 바위 1,  보자기 0.. 가위 승\n",
      "가위 4, 바위 0,  보자기 0.. 가위 승\n",
      "한 번에 승부가 결정 나는 경우의 수는 12\n"
     ]
    }
   ],
   "source": [
    "# 이제 한 번의 경우에 승부가 나는 경우의 수를 카운트 해 보자\n",
    "\n",
    "count = 0\n",
    "for i in result :\n",
    "    if i[0] > i[1] and i[0] > i[2] :\n",
    "        count += 1\n",
    "        print(f'가위 {i[0]}, 바위 {i[1]},  보자기 {i[2]}.. 가위 승')\n",
    "    if i[1] > i[0] and i[1] > i[2] :\n",
    "        count += 1\n",
    "        print(f'가위 {i[0]}, 바위 {i[1]},  보자기 {i[2]}.. 바위 승')\n",
    "    if i[2] > i[0] and i[2] > i[1] :\n",
    "        count += 1\n",
    "        print(f'가위 {i[0]}, 바위 {i[1]},  보자기 {i[2]}.. 보자기 승')\n",
    "\n",
    "print(f'한 번에 승부가 결정 나는 경우의 수는 {count}')"
   ]
  },
  {
   "cell_type": "code",
   "execution_count": 11,
   "id": "db3bee00",
   "metadata": {},
   "outputs": [
    {
     "name": "stdout",
     "output_type": "stream",
     "text": [
      "[0, 0, 4]\n",
      "[0, 1, 3]\n",
      "[0, 2, 2]\n",
      "[0, 3, 1]\n",
      "[0, 4, 0]\n",
      "[1, 0, 3]\n",
      "[1, 1, 2]\n",
      "[1, 2, 1]\n",
      "[1, 3, 0]\n",
      "[2, 0, 2]\n",
      "[2, 1, 1]\n",
      "[2, 2, 0]\n",
      "[3, 0, 1]\n",
      "[3, 1, 0]\n",
      "[4, 0, 0]\n",
      "12\n"
     ]
    }
   ],
   "source": [
    "# 책에서 풀이를 어떻게 하는지 보자..\n",
    "\n",
    "n = 4\n",
    "\n",
    "count = 0\n",
    "for rock in range(0, n + 1) :\n",
    "    for scissors in range(0, n - rock + 1) :\n",
    "        paper = n - rock - scissors\n",
    "        all = [rock, scissors, paper]\n",
    "        print(all)\n",
    "        if all.count(max(all)) == 1 :\n",
    "            count += 1\n",
    "\n",
    "print(count) "
   ]
  },
  {
   "cell_type": "code",
   "execution_count": 12,
   "id": "d9ecd567",
   "metadata": {},
   "outputs": [
    {
     "name": "stdout",
     "output_type": "stream",
     "text": [
      "[0, 0, 4]\n",
      "[0, 1, 3]\n",
      "[0, 2, 2]\n",
      "[0, 3, 1]\n",
      "[0, 4, 0]\n",
      "[1, 0, 3]\n",
      "[1, 1, 2]\n",
      "[1, 2, 1]\n",
      "[1, 3, 0]\n",
      "[2, 0, 2]\n",
      "[2, 1, 1]\n",
      "[2, 2, 0]\n",
      "[3, 0, 1]\n",
      "[3, 1, 0]\n",
      "[4, 0, 0]\n",
      "12\n"
     ]
    }
   ],
   "source": [
    "# 조합을 사용해서 푸는 방법\n",
    "n = 4\n",
    "count = 0\n",
    "for l in range(0, n + 1) :\n",
    "    for r in range(l, n + 1) :\n",
    "        all = [l, r - l, n - r]  # 왼쪽에서 부터 l(가위를 내고 바위를 낸 사이의 구분) 만큼 이동하면 r(바위를 낸 사이의 구분) 만큼 이동하고, n - r 만큼 보자기를 낸다.\n",
    "        print(all)\n",
    "        if all.count(max(all)) == 1 :\n",
    "            count += 1\n",
    "\n",
    "print(count)"
   ]
  },
  {
   "cell_type": "code",
   "execution_count": 13,
   "id": "96b06e58",
   "metadata": {},
   "outputs": [
    {
     "name": "stdout",
     "output_type": "stream",
     "text": [
      "0 0 4\n",
      "0 1 3\n",
      "0 2 2\n",
      "0 3 1\n",
      "0 4 0\n",
      "1 0 3\n",
      "1 1 2\n",
      "1 2 1\n",
      "1 3 0\n",
      "2 0 2\n",
      "2 1 1\n",
      "2 2 0\n",
      "3 0 1\n",
      "3 1 0\n",
      "4 0 0\n",
      "12\n"
     ]
    }
   ],
   "source": [
    "n = 4\n",
    "\n",
    "count = 0\n",
    "for i in range(n +1 ) :\n",
    "    for j in range(n + 1) :\n",
    "        k = n - (i + j)\n",
    "        if k >= 0 :\n",
    "            print(i, j, k)\n",
    "            if i > j and i > k :\n",
    "                count += 1\n",
    "            if j > i and j > k :\n",
    "                count += 1\n",
    "            if k > i and k > j :\n",
    "                count += 1 \n",
    "\n",
    "print(count)"
   ]
  },
  {
   "cell_type": "code",
   "execution_count": 14,
   "id": "109ad2ba",
   "metadata": {},
   "outputs": [
    {
     "name": "stdout",
     "output_type": "stream",
     "text": [
      "[(0, 0, 4), (0, 1, 3), (0, 2, 2), (0, 3, 1), (0, 4, 0), (1, 0, 3), (1, 1, 2), (1, 2, 1), (1, 3, 0), (2, 0, 2), (2, 1, 1), (2, 2, 0), (3, 0, 1), (3, 1, 0), (4, 0, 0)] 15\n",
      "12\n"
     ]
    }
   ],
   "source": [
    "n = 4 \n",
    "\n",
    "result = []\n",
    "for i in range(n + 1) :\n",
    "    for j in range(n - i + 1) :\n",
    "        k = n - (i + j)\n",
    "        result.append((i, j, k))\n",
    "print(result, len(result))\n",
    "\n",
    "count = 0\n",
    "for i in result :\n",
    "    if i.count(max(i)) == 1 :\n",
    "        count += 1\n",
    "print(count)"
   ]
  },
  {
   "cell_type": "code",
   "execution_count": null,
   "id": "5bef90a9",
   "metadata": {},
   "outputs": [],
   "source": [
    "# 두 사람이 묵(1), 찌(2), 빠(3) 중 하나를 냅니다.\n",
    "# 묵찌빠의 규칙에 따라 아래와 같이 승패를 판별하세요.\n",
    "\n",
    "# 묵(1)은 찌(2)를 이김\n",
    "\n",
    "# 찌(2)는 빠(3)를 이김\n",
    "\n",
    "# 빠(3)는 묵(1)을 이김\n",
    "\n",
    "# 입력으로 두 사람이 낸 값을 공백으로 구분해 한 줄에 입력받고,\n",
    "# 첫 번째 사람이 이기면 \"A\", 두 번째 사람이 이기면 \"B\"를 출력하세요.\n",
    "# (비기는 경우는 입력으로 주어지지 않습니다.)\n",
    "\n",
    "# 1 2\n"
   ]
  },
  {
   "cell_type": "code",
   "execution_count": null,
   "id": "453c9cc1",
   "metadata": {},
   "outputs": [
    {
     "name": "stdout",
     "output_type": "stream",
     "text": [
      "2 3\n"
     ]
    }
   ],
   "source": [
    "#  두개의 숫자를 입력 받는 방법\n",
    "\n",
    "# a, b = map(int, input(\"두 사람의 값을 공백으로 구분해 입력하세요: \").split())\n",
    "# print(a, b)   #  <map object at 0x0000024B684F4FD0>\n",
    "\n",
    "# user = map(int, input('1, 2, 3 중에 두개의 숫자를 입력해 주세요').split())\n",
    "# print(user)     #  1 3\n",
    "\n",
    "# user = list(map(int, input(\"두 사람의 값을 공백으로 구분해 입력하세요: \").split()))\n",
    "# print(user)    #  [1, 3]"
   ]
  },
  {
   "cell_type": "code",
   "execution_count": 19,
   "id": "0ed05545",
   "metadata": {},
   "outputs": [
    {
     "name": "stdout",
     "output_type": "stream",
     "text": [
      "2 3 <class 'str'> <class 'str'>\n",
      "A\n"
     ]
    }
   ],
   "source": [
    "a, b = map(str, input('1, 2, 3 중에서 두개의 숫자를 공백으로 나누어 입력해 주세요').split())\n",
    "print(a, b, type(a), type(b))\n",
    "\n",
    "\n",
    "if a == '1' :\n",
    "    if b == '2' :\n",
    "        print('A')\n",
    "    if b == '3' :\n",
    "        print('B')\n",
    "if a == '2' :\n",
    "    if b == '3' :\n",
    "        print('A')\n",
    "    if b == '1' :\n",
    "        print('B')\n",
    "if a == '3' :\n",
    "    if b == 1 :\n",
    "        print('A')\n",
    "    if b == 2 :\n",
    "        print('B')\n"
   ]
  },
  {
   "cell_type": "code",
   "execution_count": null,
   "id": "2f3e00f9",
   "metadata": {},
   "outputs": [],
   "source": []
  }
 ],
 "metadata": {
  "kernelspec": {
   "display_name": "Python 3",
   "language": "python",
   "name": "python3"
  },
  "language_info": {
   "codemirror_mode": {
    "name": "ipython",
    "version": 3
   },
   "file_extension": ".py",
   "mimetype": "text/x-python",
   "name": "python",
   "nbconvert_exporter": "python",
   "pygments_lexer": "ipython3",
   "version": "3.10.6"
  }
 },
 "nbformat": 4,
 "nbformat_minor": 5
}
