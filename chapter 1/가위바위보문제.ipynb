{
 "cells": [
  {
   "cell_type": "code",
   "execution_count": 1,
   "id": "56c3edd5",
   "metadata": {},
   "outputs": [
    {
     "name": "stdout",
     "output_type": "stream",
     "text": [
      "0 0 4\n",
      "0 1 3\n",
      "0 2 2\n",
      "0 3 1\n",
      "0 4 0\n",
      "1 0 3\n",
      "1 1 2\n",
      "1 2 1\n",
      "1 3 0\n",
      "2 0 2\n",
      "2 1 1\n",
      "2 2 0\n",
      "3 0 1\n",
      "3 1 0\n",
      "4 0 0\n"
     ]
    }
   ],
   "source": [
    "n = 4 \n",
    "\n",
    "result = []\n",
    "for i in range(n + 1) :\n",
    "    for j in range(n + 1) :\n",
    "        k = n - (i + j)\n",
    "        if k >= 0 :\n",
    "            print(i, j, k)\n",
    "            result.append((i, j, k))"
   ]
  },
  {
   "cell_type": "code",
   "execution_count": 2,
   "id": "d970e696",
   "metadata": {},
   "outputs": [
    {
     "name": "stdout",
     "output_type": "stream",
     "text": [
      "가위 0, 바위 0,  보자기 4.. 보자기 승\n",
      "가위 0, 바위 1,  보자기 3.. 보자기 승\n",
      "가위 0, 바위 3,  보자기 1.. 바위 승\n",
      "가위 0, 바위 4,  보자기 0.. 바위 승\n",
      "가위 1, 바위 0,  보자기 3.. 보자기 승\n",
      "가위 1, 바위 1,  보자기 2.. 보자기 승\n",
      "가위 1, 바위 2,  보자기 1.. 바위 승\n",
      "가위 1, 바위 3,  보자기 0.. 바위 승\n",
      "가위 2, 바위 1,  보자기 1.. 가위 승\n",
      "가위 3, 바위 0,  보자기 1.. 가위 승\n",
      "가위 3, 바위 1,  보자기 0.. 가위 승\n",
      "가위 4, 바위 0,  보자기 0.. 가위 승\n",
      "한 번에 승부가 결정 나는 경우의 수는 12\n"
     ]
    }
   ],
   "source": [
    "# 이제 한 번의 경우에 승부가 나는 경우의 수를 카운트 해 보자\n",
    "\n",
    "count = 0\n",
    "for i in result :\n",
    "    if i[0] > i[1] and i[0] > i[2] :\n",
    "        count += 1\n",
    "        print(f'가위 {i[0]}, 바위 {i[1]},  보자기 {i[2]}.. 가위 승')\n",
    "    if i[1] > i[0] and i[1] > i[2] :\n",
    "        count += 1\n",
    "        print(f'가위 {i[0]}, 바위 {i[1]},  보자기 {i[2]}.. 바위 승')\n",
    "    if i[2] > i[0] and i[2] > i[1] :\n",
    "        count += 1\n",
    "        print(f'가위 {i[0]}, 바위 {i[1]},  보자기 {i[2]}.. 보자기 승')\n",
    "\n",
    "print(f'한 번에 승부가 결정 나는 경우의 수는 {count}')"
   ]
  },
  {
   "cell_type": "code",
   "execution_count": 3,
   "id": "db3bee00",
   "metadata": {},
   "outputs": [
    {
     "name": "stdout",
     "output_type": "stream",
     "text": [
      "[0, 0, 4]\n",
      "[0, 1, 3]\n",
      "[0, 2, 2]\n",
      "[0, 3, 1]\n",
      "[0, 4, 0]\n",
      "[1, 0, 3]\n",
      "[1, 1, 2]\n",
      "[1, 2, 1]\n",
      "[1, 3, 0]\n",
      "[2, 0, 2]\n",
      "[2, 1, 1]\n",
      "[2, 2, 0]\n",
      "[3, 0, 1]\n",
      "[3, 1, 0]\n",
      "[4, 0, 0]\n",
      "12\n"
     ]
    }
   ],
   "source": [
    "# 책에서 풀이를 어떻게 하는지 보자..\n",
    "\n",
    "n = 4\n",
    "\n",
    "count = 0\n",
    "for rock in range(0, n + 1) :\n",
    "    for scissors in range(0, n - rock + 1) :\n",
    "        paper = n - rock - scissors\n",
    "        all = [rock, scissors, paper]\n",
    "        print(all)\n",
    "        if all.count(max(all)) == 1 :\n",
    "            count += 1\n",
    "\n",
    "print(count) "
   ]
  },
  {
   "cell_type": "code",
   "execution_count": 4,
   "id": "d9ecd567",
   "metadata": {},
   "outputs": [
    {
     "name": "stdout",
     "output_type": "stream",
     "text": [
      "[0, 0, 4]\n",
      "[0, 1, 3]\n",
      "[0, 2, 2]\n",
      "[0, 3, 1]\n",
      "[0, 4, 0]\n",
      "[1, 0, 3]\n",
      "[1, 1, 2]\n",
      "[1, 2, 1]\n",
      "[1, 3, 0]\n",
      "[2, 0, 2]\n",
      "[2, 1, 1]\n",
      "[2, 2, 0]\n",
      "[3, 0, 1]\n",
      "[3, 1, 0]\n",
      "[4, 0, 0]\n",
      "12\n"
     ]
    }
   ],
   "source": [
    "# 조합을 사용해서 푸는 방법\n",
    "n = 4\n",
    "count = 0\n",
    "for l in range(0, n + 1) :\n",
    "    for r in range(l, n + 1) :\n",
    "        all = [l, r - l, n - r]  # 왼쪽에서 부터 l(가위를 내고 바위를 낸 사이의 구분) 만큼 이동하면 r(바위를 낸 사이의 구분) 만큼 이동하고, n - r 만큼 보자기를 낸다.\n",
    "        print(all)\n",
    "        if all.count(max(all)) == 1 :\n",
    "            count += 1\n",
    "\n",
    "print(count)"
   ]
  },
  {
   "cell_type": "code",
   "execution_count": 11,
   "id": "96b06e58",
   "metadata": {},
   "outputs": [
    {
     "name": "stdout",
     "output_type": "stream",
     "text": [
      "0 0 4\n",
      "0 1 3\n",
      "0 2 2\n",
      "0 3 1\n",
      "0 4 0\n",
      "1 0 3\n",
      "1 1 2\n",
      "1 2 1\n",
      "1 3 0\n",
      "2 0 2\n",
      "2 1 1\n",
      "2 2 0\n",
      "3 0 1\n",
      "3 1 0\n",
      "4 0 0\n",
      "12\n"
     ]
    }
   ],
   "source": [
    "n = 4\n",
    "\n",
    "count = 0\n",
    "for i in range(n +1 ) :\n",
    "    for j in range(n + 1) :\n",
    "        k = n - (i + j)\n",
    "        if k >= 0 :\n",
    "            print(i, j, k)\n",
    "            if i > j and i > k :\n",
    "                count += 1\n",
    "            if j > i and j > k :\n",
    "                count += 1\n",
    "            if k > i and k > j :\n",
    "                count += 1 \n",
    "\n",
    "print(count)"
   ]
  },
  {
   "cell_type": "code",
   "execution_count": 7,
   "id": "109ad2ba",
   "metadata": {},
   "outputs": [
    {
     "name": "stdout",
     "output_type": "stream",
     "text": [
      "[(0, 0, 4), (0, 1, 3), (0, 2, 2), (0, 3, 1), (0, 4, 0), (1, 0, 3), (1, 1, 2), (1, 2, 1), (1, 3, 0), (2, 0, 2), (2, 1, 1), (2, 2, 0), (3, 0, 1), (3, 1, 0), (4, 0, 0)] 15\n",
      "12\n"
     ]
    }
   ],
   "source": [
    "n = 4 \n",
    "\n",
    "result = []\n",
    "for i in range(n + 1) :\n",
    "    for j in range(n - i + 1) :\n",
    "        k = n - (i + j)\n",
    "        result.append((i, j, k))\n",
    "print(result, len(result))\n",
    "\n",
    "count = 0\n",
    "for i in result :\n",
    "    if i.count(max(i)) == 1 :\n",
    "        count += 1\n",
    "print(count)"
   ]
  },
  {
   "cell_type": "code",
   "execution_count": null,
   "id": "5bef90a9",
   "metadata": {},
   "outputs": [],
   "source": []
  }
 ],
 "metadata": {
  "kernelspec": {
   "display_name": "Python 3",
   "language": "python",
   "name": "python3"
  },
  "language_info": {
   "codemirror_mode": {
    "name": "ipython",
    "version": 3
   },
   "file_extension": ".py",
   "mimetype": "text/x-python",
   "name": "python",
   "nbconvert_exporter": "python",
   "pygments_lexer": "ipython3",
   "version": "3.12.1"
  }
 },
 "nbformat": 4,
 "nbformat_minor": 5
}
