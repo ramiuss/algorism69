{
 "cells": [
  {
   "cell_type": "code",
   "execution_count": 5,
   "id": "d7c25ee4",
   "metadata": {},
   "outputs": [],
   "source": [
    "# 직사각형에서 정사각형을 잘라내면 그 나머지로 작은 정사각형을 만들수 있다.\n",
    "# 이런식으로 긴 변의 길이가 정해져 있을 때 만들 수 있는 정사각형을 구해보자..."
   ]
  },
  {
   "cell_type": "code",
   "execution_count": 6,
   "id": "9ab0db50",
   "metadata": {},
   "outputs": [],
   "source": [
    "# 문제 \n",
    "# 긴변의 길이가 8 이고, 정사각형을 5개 만들 수 있는 경우의 수를 구해라..."
   ]
  },
  {
   "cell_type": "code",
   "execution_count": 11,
   "id": "f3925ed5",
   "metadata": {},
   "outputs": [
    {
     "name": "stdout",
     "output_type": "stream",
     "text": [
      "26882\n",
      "Duration of process : 0.4620990753173828\n"
     ]
    }
   ],
   "source": [
    "import time\n",
    "\n",
    "start_time = time.time()\n",
    "\n",
    "W = 1000\n",
    "N = 20\n",
    "\n",
    "def square_cut(w, h) :\n",
    "    if w == h :\n",
    "        return 1\n",
    "    if w > h :\n",
    "        w, h = h, w\n",
    "    q, r = divmod(h, w)    \n",
    "    result = q\n",
    "    if r > 0 :\n",
    "        result += square_cut(w, r) \n",
    "    return result\n",
    "\n",
    "count = 0\n",
    "for i in range(1, W + 1) :\n",
    "    for j in range(i, W + 1) :\n",
    "        if square_cut(i, j) == N :\n",
    "            count += 1\n",
    "\n",
    "print(count)\n",
    "\n",
    "end_time = time.time()\n",
    "\n",
    "print(f'Duration of process : {end_time - start_time}')"
   ]
  },
  {
   "cell_type": "code",
   "execution_count": 12,
   "id": "406c0447",
   "metadata": {},
   "outputs": [
    {
     "name": "stdout",
     "output_type": "stream",
     "text": [
      "26882\n",
      "Duration of process : 0.5778460502624512\n"
     ]
    }
   ],
   "source": [
    "# 계산을 빨리 하기 위해 메모리제이션을 수행하면 좋다\n",
    "#  첫번째 방법은 \n",
    "\n",
    "from functools import lru_cache\n",
    "import time\n",
    "\n",
    "start_time = time.time()\n",
    "\n",
    "W = 1000\n",
    "N = 20\n",
    "\n",
    "@lru_cache(maxsize=None)\n",
    "def square(w, h) :\n",
    "    if w == h :\n",
    "        return 1\n",
    "    if w > h :\n",
    "        w, h = h, w\n",
    "    q, r = divmod(h, w) \n",
    "    result = q\n",
    "    if r > 0 :\n",
    "        result += square(w, r)\n",
    "    return result \n",
    "\n",
    "count = 0\n",
    "for i in range(1, W + 1) :\n",
    "    for j in range(i, W + 1) :\n",
    "        if square(i, j ) == N :\n",
    "            count += 1\n",
    "\n",
    "print(count)\n",
    "\n",
    "end_time = time.time()\n",
    "\n",
    "print(f'Duration of process : {end_time - start_time}')"
   ]
  },
  {
   "cell_type": "code",
   "execution_count": null,
   "id": "7bef3cd9",
   "metadata": {},
   "outputs": [],
   "source": []
  }
 ],
 "metadata": {
  "kernelspec": {
   "display_name": "Python 3",
   "language": "python",
   "name": "python3"
  },
  "language_info": {
   "codemirror_mode": {
    "name": "ipython",
    "version": 3
   },
   "file_extension": ".py",
   "mimetype": "text/x-python",
   "name": "python",
   "nbconvert_exporter": "python",
   "pygments_lexer": "ipython3",
   "version": "3.12.1"
  }
 },
 "nbformat": 4,
 "nbformat_minor": 5
}
