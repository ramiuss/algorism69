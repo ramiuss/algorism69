{
 "cells": [
  {
   "cell_type": "code",
   "execution_count": null,
   "id": "7eb4c85d",
   "metadata": {},
   "outputs": [],
   "source": [
    "# # \"N개의 역이 원형으로 연결된 지하철 노선에서, \n",
    "# # a번 역에서 출발해 b번 역에서 모든 역을 한 번씩만 방문하는 경로(스탬프 찍기 순서)는 몇 가지가 있는가?\"\n",
    "\n",
    "# 🔍 문제 해석\n",
    "# 역은 N개, 원형으로 연결되어 있음.\n",
    "# a번 역에서 출발해서 b번 역에서 끝남.\n",
    "# 모든 역을 정확히 한 번씩 방문해야 함.\n",
    "# 경로의 수를 구하라."
   ]
  },
  {
   "cell_type": "code",
   "execution_count": 1,
   "id": "718d4911",
   "metadata": {},
   "outputs": [
    {
     "name": "stdout",
     "output_type": "stream",
     "text": [
      "16\n",
      "67141631\n"
     ]
    }
   ],
   "source": [
    "# 위 문제는 1번 역에서 타서 2번 역에서 내릴지 말지, 3번 역에서 내릴지 말지...\n",
    "# 를 계속 하는 것이 므로 두 역사이의 갯수.. 2의 갯수 승 계산이다..\n",
    "# 단지 반대 방향으로도 돌 수 있으므로 그 경우를 더하고..\n",
    "# 중복 되는 딱 한가지를 빼준다..\n",
    "\n",
    "\n",
    "N = 43\n",
    "a, b = 1, 17\n",
    "\n",
    "n = abs(1 - 17)\n",
    "print(n)\n",
    "\n",
    "print(2 **(n -1) + 2 **(N - n - 1) - 1)"
   ]
  },
  {
   "cell_type": "code",
   "execution_count": 1,
   "id": "7f23d38b",
   "metadata": {},
   "outputs": [
    {
     "name": "stdout",
     "output_type": "stream",
     "text": [
      "67141631\n"
     ]
    }
   ],
   "source": [
    "# 아래와 같이 비트연산방법으로 풀 수도 있다\n",
    "# 1 << k 는  2**k 승 이라는 뜻이다...\n",
    "\n",
    "N = 43\n",
    "a, b = 1, 17\n",
    "n = abs(a - b)\n",
    "print((1 << (n - 1)) + (1 << ( N - n - 1)) -1 )"
   ]
  },
  {
   "cell_type": "code",
   "execution_count": null,
   "id": "6ca892f5",
   "metadata": {},
   "outputs": [],
   "source": []
  }
 ],
 "metadata": {
  "kernelspec": {
   "display_name": "Python 3",
   "language": "python",
   "name": "python3"
  },
  "language_info": {
   "codemirror_mode": {
    "name": "ipython",
    "version": 3
   },
   "file_extension": ".py",
   "mimetype": "text/x-python",
   "name": "python",
   "nbconvert_exporter": "python",
   "pygments_lexer": "ipython3",
   "version": "3.12.1"
  }
 },
 "nbformat": 4,
 "nbformat_minor": 5
}
