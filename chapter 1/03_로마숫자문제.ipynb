{
 "cells": [
  {
   "cell_type": "code",
   "execution_count": 7,
   "id": "c2bf69b2",
   "metadata": {},
   "outputs": [],
   "source": [
    "# 아라비아 숫자    1   5   10   50   100   500   1000\n",
    "# 로마 숫자        I   V   X    L    C     D     M\n",
    "\n",
    "# 로마 숫자는 1~3999 까지만 만등 수 있는데, 이유는 같은 문자를 4개 사용할 수 없기 때문이다.\n",
    "# 예를 들어 4는 IIII가 아니라 IV로 표현한다.\n"
   ]
  },
  {
   "cell_type": "code",
   "execution_count": 8,
   "id": "2da342e5",
   "metadata": {},
   "outputs": [
    {
     "name": "stdout",
     "output_type": "stream",
     "text": [
      "I\n",
      "IV\n",
      "IX\n",
      "LVIII\n",
      "MCMXCIV\n",
      "MMMCMXCIX\n"
     ]
    }
   ],
   "source": [
    "# 아라비아숫자를 로마숫자로 바꾸는 함수\n",
    "\n",
    "def int_to_roman(num): \n",
    "    val = [\n",
    "        1000, 900, 500, 400,\n",
    "        100, 90, 50, 40,\n",
    "        10, 9, 5, 4,\n",
    "        1\n",
    "    ]\n",
    "    syms = [\n",
    "        \"M\", \"CM\", \"D\", \"CD\",\n",
    "        \"C\", \"XC\", \"L\", \"XL\",\n",
    "        \"X\", \"IX\", \"V\", \"IV\",\n",
    "        \"I\"\n",
    "    ]\n",
    "    roman_num = ''\n",
    "\n",
    "    for i in range(len(val)):\n",
    "        while num >= val[i]:\n",
    "            roman_num += syms[i]\n",
    "            num -= val[i]\n",
    "\n",
    "    return roman_num    \n",
    "\n",
    "print(int_to_roman(1))    # I\n",
    "print(int_to_roman(4))    # IV  \n",
    "print(int_to_roman(9))    # IX\n",
    "print(int_to_roman(58))   # LVIII\n",
    "print(int_to_roman(1994)) # MCMXCIV\n",
    "print(int_to_roman(3999)) # MMMCMXCIX"
   ]
  },
  {
   "cell_type": "code",
   "execution_count": 9,
   "id": "5af985d0",
   "metadata": {},
   "outputs": [
    {
     "name": "stdout",
     "output_type": "stream",
     "text": [
      "XI\n",
      "result의 열번째 요소의 길이는 2입니다.\n",
      "로마 숫자의 길이가 12 개인 경우는 93개입니다.\n"
     ]
    }
   ],
   "source": [
    "# 12개의 로마숫자로 만들 수 있는 수를 구하려면\n",
    "\n",
    "result = []\n",
    "for j in range(1, 4000) :\n",
    "    result.append(int_to_roman(j))\n",
    "\n",
    "print(result[10])\n",
    "print(f'result의 열번째 요소의 길이는 {len(result[10])}입니다.')\n",
    "    \n",
    "count = 0 \n",
    "for k in result :\n",
    "    if len(k) == 12 :\n",
    "        count += 1\n",
    "print(f'로마 숫자의 길이가 12 개인 경우는 {count}개입니다.')"
   ]
  },
  {
   "cell_type": "code",
   "execution_count": 10,
   "id": "107fafb2",
   "metadata": {},
   "outputs": [],
   "source": [
    "# 문제: 로마 숫자 덧셈 계산기\n",
    "# 로마 숫자 두 개가 문자열로 주어집니다.\n",
    "# 이 두 로마 숫자를 더한 값을 로마 숫자 형태의 문자열로 반환하는 함수를 작성하세요\n",
    "\n",
    "# roman_add(\"XIV\", \"LX\")   # \"LXXIV\"\n",
    "# roman_add(\"MCM\", \"LIX\")  # \"MCMLIX\"\n"
   ]
  },
  {
   "cell_type": "code",
   "execution_count": null,
   "id": "c36007ff",
   "metadata": {},
   "outputs": [
    {
     "name": "stdout",
     "output_type": "stream",
     "text": [
      "14\n",
      "1987\n",
      "2024\n"
     ]
    }
   ],
   "source": [
    "# 로마숫자를 아라비아숫자로 바꾸는 함수..\n",
    "\n",
    "def roman_to_int(s):\n",
    "    roman = {\n",
    "        'I': 1, 'V': 5, 'X': 10, 'L': 50,\n",
    "        'C': 100, 'D': 500, 'M': 1000\n",
    "    }\n",
    "    total = 0\n",
    "    prev = 0\n",
    "    for ch in reversed(s):\n",
    "        value = roman[ch]\n",
    "        if value < prev:\n",
    "            total -= value\n",
    "        else:\n",
    "            total += value\n",
    "        prev = value\n",
    "    return total\n",
    "\n",
    "# 예시 사용\n",
    "print(roman_to_int(\"XIV\"))    # 출력: 14\n",
    "print(roman_to_int(\"MCMLXXXVII\"))  # 출력: 1987\n",
    "print(roman_to_int(\"MMXXIV\")) # 출력: 2024\n"
   ]
  },
  {
   "cell_type": "code",
   "execution_count": 12,
   "id": "d519156b",
   "metadata": {},
   "outputs": [
    {
     "name": "stdout",
     "output_type": "stream",
     "text": [
      "LXXIV\n"
     ]
    }
   ],
   "source": [
    "# 더하기 함수를 만들고\n",
    "\n",
    "def add_roman(a, b) :\n",
    "    s = roman_to_int(a) + roman_to_int(b)\n",
    "    return int_to_roman(s)\n",
    "\n",
    "print(add_roman('XIV','LX'))"
   ]
  },
  {
   "cell_type": "code",
   "execution_count": 1,
   "id": "cd89abda",
   "metadata": {},
   "outputs": [
    {
     "name": "stdout",
     "output_type": "stream",
     "text": [
      "14\n",
      "1987\n",
      "2024\n"
     ]
    }
   ],
   "source": [
    "def roman_to_int(string) :\n",
    "    \n",
    "    roman_val = {'I': 1, 'V': 5, 'X': 10, 'L': 50, 'C': 100, 'D': 500, 'M': 1000}\n",
    "\n",
    "    total = 0\n",
    "    prev = 0\n",
    "    for chr in reversed(string) :\n",
    "        value = roman_val[chr]\n",
    "        if value < prev :\n",
    "            total -= value\n",
    "        else :\n",
    "            total += value\n",
    "        prev = value \n",
    "\n",
    "    return total\n",
    "\n",
    "\n",
    "print(roman_to_int(\"XIV\"))    # 출력: 14\n",
    "print(roman_to_int(\"MCMLXXXVII\"))  # 출력: 1987\n",
    "print(roman_to_int(\"MMXXIV\")) # 출력: 2024\n",
    "\n"
   ]
  },
  {
   "cell_type": "code",
   "execution_count": 2,
   "id": "5d371b59",
   "metadata": {},
   "outputs": [
    {
     "name": "stdout",
     "output_type": "stream",
     "text": [
      "MCCXXXIV\n",
      "val 과 syms를 합쳐서 딕셔너리롤 만들면 {'M': 1000, 'CM': 900, 'D': 500, 'CD': 400, 'C': 100, 'XC': 90, 'L': 50, 'XL': 40, 'X': 10, 'IX': 9, 'V': 5, 'IV': 4, 'I': 1}\n",
      "M 값을 구하면 1000\n",
      "딕셔너리의 길이는 13\n",
      "1234\n"
     ]
    }
   ],
   "source": [
    "val = [\n",
    "    1000, 900, 500, 400,\n",
    "    100, 90, 50, 40,\n",
    "    10, 9, 5, 4,\n",
    "    1\n",
    "]\n",
    "syms = [\n",
    "    \"M\", \"CM\", \"D\", \"CD\",\n",
    "    \"C\", \"XC\", \"L\", \"XL\",\n",
    "    \"X\", \"IX\", \"V\", \"IV\",\n",
    "    \"I\"\n",
    "]\n",
    "\n",
    "def int_to_roman(num) :\n",
    "    roman = ''\n",
    "    for i in range(len(val)) :\n",
    "        while num >= val[i] :\n",
    "                roman += syms[i]\n",
    "                num -= val[i]\n",
    "    return roman\n",
    "\n",
    "print(int_to_roman(1234))\n",
    "\n",
    "val_syms = dict(zip(syms, val))\n",
    "print(f'val 과 syms를 합쳐서 딕셔너리롤 만들면 {val_syms}')\n",
    "print(f'M 값을 구하면 {val_syms['M']}')\n",
    "print(f'딕셔너리의 길이는 {len(val_syms)}')\n",
    "\n",
    "def roman_to_int(string) :\n",
    "    total = 0\n",
    "    prev = 0\n",
    "    for chr in reversed(string) :\n",
    "        value = val_syms[chr] \n",
    "        if value < prev :\n",
    "            total -= value\n",
    "        else :\n",
    "             total += value\n",
    "        prev = value\n",
    "\n",
    "    return total\n",
    "\n",
    "print(roman_to_int('MCCXXXIV'))\n",
    "        \n",
    "         \n",
    "        \n"
   ]
  },
  {
   "cell_type": "code",
   "execution_count": null,
   "id": "022bd13c",
   "metadata": {},
   "outputs": [],
   "source": [
    "# 문제: 로마 숫자 정렬기\n",
    "# 문제 설명\n",
    "# 여러 개의 로마 숫자 문자열이 담긴 리스트가 주어집니다.\n",
    "# 이 리스트를 아라비아 숫자 값 기준으로 오름차순 정렬하여,\n",
    "# 정렬된 결과를 로마 숫자 문자열 리스트로 반환하는 함수를 작성하세요.\n",
    "\n",
    "# roman_list = [\"XIV\", \"IX\", \"XXI\", \"IV\", \"X\"]\n",
    "# # 정답: [\"IV\", \"IX\", \"X\", \"XIV\", \"XXI\"]\n"
   ]
  },
  {
   "cell_type": "code",
   "execution_count": 8,
   "id": "8c11fbea",
   "metadata": {},
   "outputs": [
    {
     "name": "stdout",
     "output_type": "stream",
     "text": [
      "[14, 9, 21, 4, 10]\n",
      "[4, 9, 10, 14, 21]\n",
      "정답은 ['IV', 'IX', 'X', 'XIV', 'XXI']\n"
     ]
    }
   ],
   "source": [
    "val = [\n",
    "    1000, 900, 500, 400,\n",
    "    100, 90, 50, 40,\n",
    "    10, 9, 5, 4,\n",
    "    1\n",
    "]\n",
    "syms = [\n",
    "    \"M\", \"CM\", \"D\", \"CD\",\n",
    "    \"C\", \"XC\", \"L\", \"XL\",\n",
    "    \"X\", \"IX\", \"V\", \"IV\",\n",
    "    \"I\"\n",
    "]\n",
    "\n",
    "val_syms = dict(zip(syms, val))\n",
    "\n",
    "def roman_to_int(string) :\n",
    "    total = 0\n",
    "    prev = 0\n",
    "    for chr in reversed(string) :\n",
    "        value = val_syms[chr]\n",
    "        if value < prev :\n",
    "            total -= value\n",
    "        else :\n",
    "            total += value\n",
    "        prev = value\n",
    "    return total \n",
    "\n",
    "roman_list = [\"XIV\", \"IX\", \"XXI\", \"IV\", \"X\"]\n",
    "result = []\n",
    "for i in roman_list :\n",
    "    result.append(roman_to_int(i))\n",
    "\n",
    "print(result)\n",
    "sort_result = sorted(result)\n",
    "print(sort_result)\n",
    "\n",
    "def int_to_roman(num) :\n",
    "    roman_num = ''\n",
    "    for i in range(len(val)) :\n",
    "        while num >= val[i] :\n",
    "            roman_num += syms[i]\n",
    "            num -= val[i]\n",
    "    return roman_num\n",
    "\n",
    "answer = []\n",
    "for j in sort_result :\n",
    "    answer.append(int_to_roman(j))\n",
    "\n",
    "print(f'정답은 {answer}')\n"
   ]
  },
  {
   "cell_type": "code",
   "execution_count": null,
   "id": "96a580ea",
   "metadata": {},
   "outputs": [],
   "source": []
  }
 ],
 "metadata": {
  "kernelspec": {
   "display_name": "Python 3",
   "language": "python",
   "name": "python3"
  },
  "language_info": {
   "codemirror_mode": {
    "name": "ipython",
    "version": 3
   },
   "file_extension": ".py",
   "mimetype": "text/x-python",
   "name": "python",
   "nbconvert_exporter": "python",
   "pygments_lexer": "ipython3",
   "version": "3.12.1"
  }
 },
 "nbformat": 4,
 "nbformat_minor": 5
}
