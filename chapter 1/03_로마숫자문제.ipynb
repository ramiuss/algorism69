{
 "cells": [
  {
   "cell_type": "code",
   "execution_count": null,
   "id": "c2bf69b2",
   "metadata": {},
   "outputs": [],
   "source": [
    "# 아라비아 숫자    1   5   10   50   100   500   1000\n",
    "# 로마 숫자        I   V   X    L    C     D     M\n",
    "\n",
    "# 로마 숫자는 1~3999 까지만 만등 수 있는데, 이유는 같은 문자를 4개 사용할 수 없기 때문이다.\n",
    "# 예를 들어 4는 IIII가 아니라 IV로 표현한다.\n",
    "# 아라비아 숫자를 로마숫자로 표현하는 함수"
   ]
  },
  {
   "cell_type": "code",
   "execution_count": 1,
   "id": "2da342e5",
   "metadata": {},
   "outputs": [
    {
     "name": "stdout",
     "output_type": "stream",
     "text": [
      "I\n",
      "IV\n",
      "IX\n",
      "LVIII\n",
      "MCMXCIV\n",
      "MMMCMXCIX\n"
     ]
    }
   ],
   "source": [
    "def int_to_roman(num): \n",
    "    val = [\n",
    "        1000, 900, 500, 400,\n",
    "        100, 90, 50, 40,\n",
    "        10, 9, 5, 4,\n",
    "        1\n",
    "    ]\n",
    "    syms = [\n",
    "        \"M\", \"CM\", \"D\", \"CD\",\n",
    "        \"C\", \"XC\", \"L\", \"XL\",\n",
    "        \"X\", \"IX\", \"V\", \"IV\",\n",
    "        \"I\"\n",
    "    ]\n",
    "    roman_num = ''\n",
    "    for i in range(len(val)):\n",
    "        while num >= val[i]:\n",
    "            roman_num += syms[i]\n",
    "            num -= val[i]\n",
    "    return roman_num    \n",
    "\n",
    "print(int_to_roman(1))    # I\n",
    "print(int_to_roman(4))    # IV  \n",
    "print(int_to_roman(9))    # IX\n",
    "print(int_to_roman(58))   # LVIII\n",
    "print(int_to_roman(1994)) # MCMXCIV\n",
    "print(int_to_roman(3999)) # MMMCMXCIX"
   ]
  },
  {
   "cell_type": "code",
   "execution_count": 2,
   "id": "5af985d0",
   "metadata": {},
   "outputs": [
    {
     "name": "stdout",
     "output_type": "stream",
     "text": [
      "XI\n",
      "result의 열번째 요소의 길이는 2입니다.\n",
      "로마 숫자의 길이가 12 개인 경우는 93개입니다.\n"
     ]
    }
   ],
   "source": [
    "# 12개의 로마숫자로 만들 수 있는 수를 구하려면\n",
    "\n",
    "result = []\n",
    "for j in range(1, 4000) :\n",
    "    result.append(int_to_roman(j))\n",
    "\n",
    "print(result[10])\n",
    "print(f'result의 열번째 요소의 길이는 {len(result[10])}입니다.')\n",
    "    \n",
    "count = 0 \n",
    "for k in result :\n",
    "    if len(k) == 12 :\n",
    "        count += 1\n",
    "print(f'로마 숫자의 길이가 12 개인 경우는 {count}개입니다.')"
   ]
  },
  {
   "cell_type": "code",
   "execution_count": null,
   "id": "107fafb2",
   "metadata": {},
   "outputs": [],
   "source": []
  }
 ],
 "metadata": {
  "kernelspec": {
   "display_name": "Python 3",
   "language": "python",
   "name": "python3"
  },
  "language_info": {
   "codemirror_mode": {
    "name": "ipython",
    "version": 3
   },
   "file_extension": ".py",
   "mimetype": "text/x-python",
   "name": "python",
   "nbconvert_exporter": "python",
   "pygments_lexer": "ipython3",
   "version": "3.12.1"
  }
 },
 "nbformat": 4,
 "nbformat_minor": 5
}
