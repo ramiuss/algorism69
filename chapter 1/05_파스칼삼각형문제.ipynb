{
 "cells": [
  {
   "cell_type": "code",
   "execution_count": null,
   "id": "aa42efb8",
   "metadata": {},
   "outputs": [],
   "source": [
    "# n = 0                                                  1\n",
    "# n = 1                                               1     1\n",
    "# n = 2                                            1     2     1\n",
    "# n = 3                                         1     3     3     1\n",
    "# n = 4                                      1     4     6     4     1\n",
    "# n = 5                                   1     5    10    10     5    1\n",
    "# n = 6                                1     6    15    20    15     6    1\n",
    "# n = 7                             1     7   21    35    35    21     7    1\n",
    "# n = 8                          1     8   28    56    70    56    28     8    1\n",
    "# n = 9                       1     9   36    84    126   126   84    36    9    1\n",
    "\n",
    "# n = 45 일 때를 구하보자"
   ]
  },
  {
   "cell_type": "code",
   "execution_count": null,
   "id": "044f0f27",
   "metadata": {},
   "outputs": [],
   "source": []
  },
  {
   "cell_type": "code",
   "execution_count": null,
   "id": "5979adab",
   "metadata": {},
   "outputs": [],
   "source": []
  }
 ],
 "metadata": {
  "language_info": {
   "name": "python"
  }
 },
 "nbformat": 4,
 "nbformat_minor": 5
}
