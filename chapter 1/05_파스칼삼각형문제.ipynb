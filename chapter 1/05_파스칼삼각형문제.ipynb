{
 "cells": [
  {
   "cell_type": "code",
   "execution_count": 18,
   "id": "aa42efb8",
   "metadata": {},
   "outputs": [],
   "source": [
    "# n = 0                                                  1\n",
    "# n = 1                                               1     1\n",
    "# n = 2                                            1     2     1\n",
    "# n = 3                                         1     3     3     1\n",
    "# n = 4                                      1     4     6     4     1\n",
    "# n = 5                                   1     5    10    10     5    1\n",
    "# n = 6                                1     6    15    20    15     6    1\n",
    "# n = 7                             1     7   21    35    35    21     7    1\n",
    "# n = 8                          1     8   28    56    70    56    28     8    1\n",
    "# n = 9                       1     9   36    84    126   126   84    36    9    1\n",
    "\n",
    "# n = 45 일 때를 구하보자"
   ]
  },
  {
   "cell_type": "code",
   "execution_count": 19,
   "id": "044f0f27",
   "metadata": {},
   "outputs": [
    {
     "name": "stdout",
     "output_type": "stream",
     "text": [
      "[1]\n",
      "[1, 1]\n",
      "[1, 2, 1]\n",
      "[1, 3, 3, 1]\n",
      "[1, 4, 6, 4, 1]\n",
      "[1, 45, 990, 14190, 148995, 1221759, 8145060, 45379620, 215553195, 886163135, 3190187286, 10150595910, 28760021745, 73006209045, 166871334960, 344867425584, 646626422970, 1103068603890, 1715884494940, 2438362177020, 3169870830126, 3773655750150, 4116715363800, 4116715363800, 3773655750150, 3169870830126, 2438362177020, 1715884494940, 1103068603890, 646626422970, 344867425584, 166871334960, 73006209045, 28760021745, 10150595910, 3190187286, 886163135, 215553195, 45379620, 8145060, 1221759, 148995, 14190, 990, 45, 1]\n"
     ]
    }
   ],
   "source": [
    "def pascal_triangle(n) :\n",
    "    if n == 0 :\n",
    "        return [1]\n",
    "    row = [1]\n",
    "    for i in range(1, n + 1) :\n",
    "        new_row = [1]\n",
    "        for j in range(1, len(row)) :\n",
    "            new_row.append(row[j - 1] + row[j])\n",
    "        new_row.append(1)\n",
    "        row = new_row\n",
    "    return row \n",
    "\n",
    "print(pascal_triangle(0))  # [1]\n",
    "print(pascal_triangle(1))  # [1, 1]\n",
    "print(pascal_triangle(2))  # [1, 2, 1]\n",
    "print(pascal_triangle(3))  # [1, 3, 3, 1]\n",
    "print(pascal_triangle(4))  # [1, 4, 6, 4, 1]\n",
    "print(pascal_triangle(45))\n"
   ]
  },
  {
   "cell_type": "code",
   "execution_count": 20,
   "id": "5979adab",
   "metadata": {},
   "outputs": [
    {
     "name": "stdout",
     "output_type": "stream",
     "text": [
      "[10000, 5000, 1000, 500, 100, 50, 10, 5, 1]\n",
      "3518437632\n"
     ]
    }
   ],
   "source": [
    "memo = {10000 : '', 5000 : '', 1000: '', 500 : '', 100 : '', 50 : '',\n",
    "        10 : '', 5 : '', 1 : ''}\n",
    "memo_list = list(memo.keys())\n",
    "print(memo_list)\n",
    "\n",
    "count = 0\n",
    "for i in pascal_triangle(45) :\n",
    "    for j in range (len(memo_list)) :\n",
    "        while i > memo_list[j] :\n",
    "            count += i // memo_list[j]\n",
    "            i = i % memo_list[j]\n",
    "\n",
    "print(count)\n"
   ]
  },
  {
   "cell_type": "code",
   "execution_count": 2,
   "id": "dbfc012d",
   "metadata": {},
   "outputs": [
    {
     "name": "stdout",
     "output_type": "stream",
     "text": [
      "[1]\n",
      "[1, 1]\n",
      "[1, 2, 1]\n",
      "[1, 3, 3, 1]\n",
      "[1, 4, 6, 4, 1]\n",
      "[1, 45, 990, 14190, 148995, 1221759, 8145060, 45379620, 215553195, 886163135, 3190187286, 10150595910, 28760021745, 73006209045, 166871334960, 344867425584, 646626422970, 1103068603890, 1715884494940, 2438362177020, 3169870830126, 3773655750150, 4116715363800, 4116715363800, 3773655750150, 3169870830126, 2438362177020, 1715884494940, 1103068603890, 646626422970, 344867425584, 166871334960, 73006209045, 28760021745, 10150595910, 3190187286, 886163135, 215553195, 45379620, 8145060, 1221759, 148995, 14190, 990, 45, 1]\n"
     ]
    }
   ],
   "source": [
    "def pascal_triangle(n):\n",
    "    if n == 0 :\n",
    "        return [1]\n",
    "    row = [1]\n",
    "    for i in range(1, n + 1) :\n",
    "        new_row = [1]\n",
    "        for j in range(1, len(row)) :\n",
    "            new_row.append(row[j - 1] + row[j])\n",
    "        new_row.append(1)\n",
    "        row = new_row\n",
    "    return row\n",
    "\n",
    "print(pascal_triangle(0))  # [1]\n",
    "print(pascal_triangle(1))  # [1, 1]\n",
    "print(pascal_triangle(2))  # [1, 2, 1]\n",
    "print(pascal_triangle(3))  # [1, 3, 3, 1]\n",
    "print(pascal_triangle(4))  # [1, 4, 6, 4, 1]\n",
    "print(pascal_triangle(45))"
   ]
  },
  {
   "cell_type": "code",
   "execution_count": 3,
   "id": "b7e4146c",
   "metadata": {},
   "outputs": [
    {
     "name": "stdout",
     "output_type": "stream",
     "text": [
      "9\n",
      "dict_keys([10000, 5000, 1000, 500, 100, 50, 10, 5, 1]) <class 'dict_keys'>\n",
      "[10000, 5000, 1000, 500, 100, 50, 10, 5, 1]\n",
      "3518437576\n"
     ]
    }
   ],
   "source": [
    "memo = {10000 : '', 5000 : '', 1000: '', 500 : '', 100 : '', 50 : '',\n",
    "        10 : '', 5 : '', 1 : ''}\n",
    "print(len(memo))\n",
    "print((memo.keys()), type(memo.keys()))  # 리스트로 만들려면 리스트 함수를 사용해야 한다..\n",
    "print(list(memo.keys()))  # [10000, 5000, 1000, 500, 100, 50, 10, 5, 1]\n",
    "\n",
    "\n",
    "count = 0\n",
    "for i in pascal_triangle(45):\n",
    "    for j in range(len(memo)):\n",
    "        while i >= list(memo.keys())[j] :\n",
    "            count += i // list(memo.keys())[j]\n",
    "            i = i % list(memo.keys())[j]\n",
    "\n",
    "print(count)\n"
   ]
  },
  {
   "cell_type": "code",
   "execution_count": null,
   "id": "c94634bb",
   "metadata": {},
   "outputs": [],
   "source": []
  }
 ],
 "metadata": {
  "kernelspec": {
   "display_name": "Python 3",
   "language": "python",
   "name": "python3"
  },
  "language_info": {
   "codemirror_mode": {
    "name": "ipython",
    "version": 3
   },
   "file_extension": ".py",
   "mimetype": "text/x-python",
   "name": "python",
   "nbconvert_exporter": "python",
   "pygments_lexer": "ipython3",
   "version": "3.10.6"
  }
 },
 "nbformat": 4,
 "nbformat_minor": 5
}
