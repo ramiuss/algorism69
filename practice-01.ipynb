{
 "cells": [
  {
   "cell_type": "code",
   "execution_count": 1,
   "id": "5d4e813b",
   "metadata": {},
   "outputs": [
    {
     "name": "stdout",
     "output_type": "stream",
     "text": [
      "6 명이 남아 있습니다.\n",
      "2명이 않았습니다. 4명 낭았습니다.\n",
      "4 명이 남아 있습니다.\n",
      "2명이 않았습니다. 2명 낭았습니다.\n",
      "2 명이 남아 있습니다.\n",
      "2명이 않았습니다. 0명 낭았습니다.\n",
      "0 명이 남아 있습니다.\n",
      "2로 돌아 갑니다\n",
      "4로 돌아 갑니다\n",
      "3명이 않았습니다. 1명 낭았습니다.\n",
      "1 명이 남아 있습니다.\n",
      "4로 돌아 갑니다\n",
      "4명이 않았습니다. 0명 낭았습니다.\n",
      "0 명이 남아 있습니다.\n",
      "4로 돌아 갑니다\n",
      "6로 돌아 갑니다\n",
      "3명이 않았습니다. 3명 낭았습니다.\n",
      "3 명이 남아 있습니다.\n",
      "2명이 않았습니다. 1명 낭았습니다.\n",
      "1 명이 남아 있습니다.\n",
      "3로 돌아 갑니다\n",
      "3명이 않았습니다. 0명 낭았습니다.\n",
      "0 명이 남아 있습니다.\n",
      "3로 돌아 갑니다\n",
      "6로 돌아 갑니다\n",
      "4명이 않았습니다. 2명 낭았습니다.\n",
      "2 명이 남아 있습니다.\n",
      "2명이 않았습니다. 0명 낭았습니다.\n",
      "0 명이 남아 있습니다.\n",
      "2로 돌아 갑니다\n",
      "6로 돌아 갑니다\n",
      "5명이 않았습니다. 1명 낭았습니다.\n",
      "1 명이 남아 있습니다.\n",
      "6로 돌아 갑니다\n",
      "6명이 않았습니다. 0명 낭았습니다.\n",
      "0 명이 남아 있습니다.\n",
      "6로 돌아 갑니다\n",
      "None\n"
     ]
    }
   ],
   "source": [
    "n = 6\n",
    "\n",
    "def graph(n) :\n",
    "    print(f'{n} 명이 남아 있습니다.')\n",
    "    for i in range(2, n + 1) :\n",
    "        print(f'{i}명이 않았습니다. {n - i}명 낭았습니다.')\n",
    "        graph(n - i) \n",
    "        print(f'{n}로 돌아 갑니다')\n",
    "print(graph(n))"
   ]
  },
  {
   "cell_type": "code",
   "execution_count": 2,
   "id": "25bc0d47",
   "metadata": {},
   "outputs": [
    {
     "name": "stdout",
     "output_type": "stream",
     "text": [
      "6 명이 남아 있습니다.\n",
      "2명이 않았습니다. 4명 낭았습니다.\n",
      "4 명이 남아 있습니다.\n",
      "2명이 않았습니다. 2명 낭았습니다.\n",
      "2 명이 남아 있습니다.\n",
      "2명이 않았습니다. 0명 낭았습니다.\n",
      "2로 돌아 갑니다\n",
      "4로 돌아 갑니다\n",
      "3명이 않았습니다. 1명 낭았습니다.\n",
      "1 명이 남아 있습니다.\n",
      "4로 돌아 갑니다\n",
      "4명이 않았습니다. 0명 낭았습니다.\n",
      "4로 돌아 갑니다\n",
      "6로 돌아 갑니다\n",
      "3명이 않았습니다. 3명 낭았습니다.\n",
      "3 명이 남아 있습니다.\n",
      "2명이 않았습니다. 1명 낭았습니다.\n",
      "1 명이 남아 있습니다.\n",
      "3로 돌아 갑니다\n",
      "3명이 않았습니다. 0명 낭았습니다.\n",
      "3로 돌아 갑니다\n",
      "6로 돌아 갑니다\n",
      "4명이 않았습니다. 2명 낭았습니다.\n",
      "2 명이 남아 있습니다.\n",
      "2명이 않았습니다. 0명 낭았습니다.\n",
      "2로 돌아 갑니다\n",
      "6로 돌아 갑니다\n",
      "5명이 않았습니다. 1명 낭았습니다.\n",
      "1 명이 남아 있습니다.\n",
      "6로 돌아 갑니다\n",
      "6명이 않았습니다. 0명 낭았습니다.\n",
      "6로 돌아 갑니다\n",
      "5\n"
     ]
    }
   ],
   "source": [
    "n = 6\n",
    "\n",
    "def graph(n) :\n",
    "    print(f'{n} 명이 남아 있습니다.')\n",
    "    count = 0\n",
    "    for i in range(2, n + 1) :\n",
    "        print(f'{i}명이 않았습니다. {n - i}명 낭았습니다.')\n",
    "        if n - i == 0 :\n",
    "            count += 1\n",
    "        else :\n",
    "            count += graph(n - i) \n",
    "        print(f'{n}로 돌아 갑니다')\n",
    "    return count\n",
    "print(graph(n))"
   ]
  },
  {
   "cell_type": "code",
   "execution_count": 3,
   "id": "95d928d6",
   "metadata": {},
   "outputs": [
    {
     "name": "stdout",
     "output_type": "stream",
     "text": [
      "8\n"
     ]
    }
   ],
   "source": [
    "W = 8\n",
    "N = 5\n",
    "\n",
    "def cut(w, h) :\n",
    "    if w == h :\n",
    "        return 1\n",
    "    if w > h :\n",
    "        w, h = h, w\n",
    "    q, r = divmod(h, w)\n",
    "    result = q\n",
    "    if r > 0 :\n",
    "        result += cut(w, r)\n",
    "    return result\n",
    "\n",
    "\n",
    "count = 0\n",
    "for i in range(1, W + 1) :\n",
    "    for j in range(i, W + 1) :\n",
    "        if cut(i, j ) == N :\n",
    "            count += 1\n",
    "\n",
    "print(count)"
   ]
  },
  {
   "cell_type": "code",
   "execution_count": 4,
   "id": "1f25157d",
   "metadata": {},
   "outputs": [
    {
     "name": "stdout",
     "output_type": "stream",
     "text": [
      "26882\n"
     ]
    }
   ],
   "source": [
    "W = 1000\n",
    "N = 20\n",
    "\n",
    "def square(w, h) :\n",
    "    if w == h :\n",
    "        return 1\n",
    "    if w > h :\n",
    "        w, h = h, w\n",
    "    q, r = divmod(h, w) \n",
    "    result = q\n",
    "    if r > 0 :\n",
    "        result += square(w, r)\n",
    "    return result \n",
    "\n",
    "count = 0\n",
    "for i in range(1, W + 1) :\n",
    "    for j in range(i, W + 1) :\n",
    "        if square(i, j ) == N :\n",
    "            count += 1\n",
    "\n",
    "print(count)\n"
   ]
  },
  {
   "cell_type": "code",
   "execution_count": 5,
   "id": "2fb91efc",
   "metadata": {},
   "outputs": [
    {
     "name": "stdout",
     "output_type": "stream",
     "text": [
      "1159168\n",
      "Duration of process : 53.55698800086975\n"
     ]
    }
   ],
   "source": [
    "import time\n",
    "\n",
    "start_time = time.time()\n",
    "\n",
    "W = 10000\n",
    "N = 20\n",
    "\n",
    "memo = {}\n",
    "def square(w, h) :\n",
    "    if w == h :\n",
    "        return 1\n",
    "    if w > h :\n",
    "        w, h = h, w\n",
    "    q, r = divmod(h, w)\n",
    "    result = q\n",
    "    if r > 0 :\n",
    "        result += square(w, r)\n",
    "    return result\n",
    "\n",
    "count = 0\n",
    "for i in range(1, W + 1) :\n",
    "    for j in range(i, W + 1) :\n",
    "        if square(i, j) == N :\n",
    "            count += 1\n",
    "print(count)\n",
    "\n",
    "end_time = time.time()\n",
    "\n",
    "print(f'Duration of process : {end_time - start_time}')"
   ]
  },
  {
   "cell_type": "code",
   "execution_count": 6,
   "id": "1720bf83",
   "metadata": {},
   "outputs": [
    {
     "name": "stdout",
     "output_type": "stream",
     "text": [
      "가능한 경우의 수는 1159168\n",
      "Duration of process : 50.03544783592224\n"
     ]
    }
   ],
   "source": [
    "import time\n",
    "from functools import lru_cache\n",
    "\n",
    "start_time = time.time()\n",
    "\n",
    "W = 10000\n",
    "N = 20\n",
    "\n",
    "@lru_cache(maxsize=None)\n",
    "def square_cut(w, h) :\n",
    "    if w == h :\n",
    "        return 1\n",
    "    if w > h :\n",
    "        w, h = h, w\n",
    "    q, r = divmod(h, w) \n",
    "    result = q\n",
    "    if r > 0 :\n",
    "        result += square_cut(w, r)\n",
    "    return result\n",
    "\n",
    "count = 0 \n",
    "for i in range(1, W + 1) :\n",
    "    for j in range(i , W + 1) :\n",
    "        if square_cut(i, j ) == N :\n",
    "            count += 1\n",
    "\n",
    "print(f'가능한 경우의 수는 {count}')\n",
    "\n",
    "end_time = time.time()\n",
    "\n",
    "print(f'Duration of process : {end_time - start_time}')"
   ]
  },
  {
   "cell_type": "code",
   "execution_count": 7,
   "id": "098c784f",
   "metadata": {},
   "outputs": [
    {
     "name": "stdout",
     "output_type": "stream",
     "text": [
      "1159168\n",
      "Duration of process : 198.00541377067566\n"
     ]
    }
   ],
   "source": [
    "import time\n",
    "\n",
    "start_time = time.time()\n",
    "\n",
    "W = 10000\n",
    "N = 20\n",
    "\n",
    "memo = {}\n",
    "def square(w, h) :\n",
    "    if (w, h) in memo :\n",
    "        return memo[(w, h)]\n",
    "    if w == h :\n",
    "        return 1\n",
    "    if w > h :\n",
    "        w, h = h, w\n",
    "    q, r = divmod(h, w)\n",
    "    result = q\n",
    "    if r > 0 :\n",
    "        result += square(w, r)\n",
    "    memo[(w, h)] = result\n",
    "    return result\n",
    "\n",
    "count = 0\n",
    "for i in range(1, W + 1) :\n",
    "    for j in range(i, W + 1) :\n",
    "        if square(i, j) == N :\n",
    "            count += 1\n",
    "print(count)\n",
    "\n",
    "end_time = time.time()\n",
    "\n",
    "print(f'Duration of process : {end_time - start_time}')"
   ]
  },
  {
   "cell_type": "code",
   "execution_count": 8,
   "id": "3e625005",
   "metadata": {},
   "outputs": [
    {
     "name": "stdout",
     "output_type": "stream",
     "text": [
      "1159168\n",
      "Duration of process: 198.35 seconds\n"
     ]
    }
   ],
   "source": [
    "import time\n",
    "\n",
    "start_time = time.time()\n",
    "\n",
    "W = 10000\n",
    "N = 20\n",
    "\n",
    "memo = {}\n",
    "def square(w, h):\n",
    "    if (w, h) in memo:\n",
    "        return memo[(w, h)]\n",
    "    if w == h:\n",
    "        memo[(w, h)] = 1\n",
    "        return 1\n",
    "    if w > h:\n",
    "        w, h = h, w\n",
    "    q, r = divmod(h, w)\n",
    "    result = q\n",
    "    if r > 0:\n",
    "        result += square(w, r)\n",
    "    memo[(w, h)] = result\n",
    "    return result\n",
    "\n",
    "count = 0\n",
    "for i in range(1, W + 1):\n",
    "    for j in range(i, W + 1):\n",
    "        if square(i, j) == N:\n",
    "            count += 1\n",
    "\n",
    "print(count)\n",
    "\n",
    "end_time = time.time()\n",
    "print(f'Duration of process: {end_time - start_time:.2f} seconds')\n"
   ]
  },
  {
   "cell_type": "code",
   "execution_count": null,
   "id": "89509ca0",
   "metadata": {},
   "outputs": [],
   "source": []
  }
 ],
 "metadata": {
  "kernelspec": {
   "display_name": "Python 3",
   "language": "python",
   "name": "python3"
  },
  "language_info": {
   "codemirror_mode": {
    "name": "ipython",
    "version": 3
   },
   "file_extension": ".py",
   "mimetype": "text/x-python",
   "name": "python",
   "nbconvert_exporter": "python",
   "pygments_lexer": "ipython3",
   "version": "3.10.6"
  }
 },
 "nbformat": 4,
 "nbformat_minor": 5
}
